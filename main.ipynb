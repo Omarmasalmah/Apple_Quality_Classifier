{
 "cells": [
  {
   "cell_type": "markdown",
   "source": [
    "# Machine Learning and Data Processing\n",
    "# Assignment 3\n",
    "# Apple Quality Classification"
   ],
   "metadata": {
    "collapsed": false
   },
   "id": "7e17b31f3c989cb1"
  },
  {
   "cell_type": "markdown",
   "source": [
    "# Contributors\n",
    "### Faris Abu Farha 1200546\n",
    "### Omar Masalmah   1200060"
   ],
   "metadata": {
    "collapsed": false
   },
   "id": "634d6628a57c63c0"
  },
  {
   "cell_type": "markdown",
   "source": [
    "import important libraries"
   ],
   "metadata": {
    "collapsed": false
   },
   "id": "71b5c404c934b3b4"
  },
  {
   "cell_type": "code",
   "execution_count": 49,
   "id": "initial_id",
   "metadata": {
    "collapsed": true,
    "ExecuteTime": {
     "end_time": "2024-01-16T22:41:47.986023293Z",
     "start_time": "2024-01-16T22:41:35.457266023Z"
    }
   },
   "outputs": [],
   "source": [
    "\n",
    "import numpy as np\n",
    "import pandas as pd\n",
    "import matplotlib.pyplot as plt\n",
    "import seaborn as sns\n"
   ]
  },
  {
   "cell_type": "markdown",
   "source": [
    "# Data Preprocessing"
   ],
   "metadata": {
    "collapsed": false
   },
   "id": "880b0c4712b6d8b7"
  },
  {
   "cell_type": "code",
   "outputs": [
    {
     "name": "stdout",
     "output_type": "stream",
     "text": [
      "<class 'pandas.core.frame.DataFrame'>\n",
      "RangeIndex: 4001 entries, 0 to 4000\n",
      "Data columns (total 9 columns):\n",
      " #   Column       Non-Null Count  Dtype  \n",
      "---  ------       --------------  -----  \n",
      " 0   A_id         4000 non-null   float64\n",
      " 1   Size         4000 non-null   float64\n",
      " 2   Weight       4000 non-null   float64\n",
      " 3   Sweetness    4000 non-null   float64\n",
      " 4   Crunchiness  4000 non-null   float64\n",
      " 5   Juiciness    4000 non-null   float64\n",
      " 6   Ripeness     4000 non-null   float64\n",
      " 7   Acidity      4001 non-null   object \n",
      " 8   Quality      4000 non-null   object \n",
      "dtypes: float64(7), object(2)\n",
      "memory usage: 281.4+ KB\n"
     ]
    }
   ],
   "source": [
    "df = pd.read_csv('dataset/apple_quality.csv')\n",
    "df.info()"
   ],
   "metadata": {
    "collapsed": false,
    "ExecuteTime": {
     "end_time": "2024-01-16T21:46:07.305939015Z",
     "start_time": "2024-01-16T21:46:07.070647023Z"
    }
   },
   "id": "275fd686ffc8b2f8",
   "execution_count": 32
  },
  {
   "cell_type": "markdown",
   "source": [
    "we noticed that every attribute has 4000 values except for the last one which has 4001, let's check why"
   ],
   "metadata": {
    "collapsed": false
   },
   "id": "fcd8087ac3d21196"
  },
  {
   "cell_type": "code",
   "outputs": [
    {
     "data": {
      "text/plain": "        A_id      Size    Weight  Sweetness  Crunchiness  Juiciness  Ripeness  \\\n3996  3996.0 -0.293118  1.949253  -0.204020    -0.640196   0.024523 -1.087900   \n3997  3997.0 -2.634515 -2.138247  -2.440461     0.657223   2.199709  4.763859   \n3998  3998.0 -4.008004 -1.779337   2.366397    -0.200329   2.161435  0.214488   \n3999  3999.0  0.278540 -1.715505   0.121217    -1.154075   1.266677 -0.776571   \n4000     NaN       NaN       NaN        NaN          NaN        NaN       NaN   \n\n                                Acidity Quality  \n3996                        1.854235285    good  \n3997                       -1.334611391     bad  \n3998                       -2.229719806    good  \n3999                        1.599796456    good  \n4000  Created_by_Nidula_Elgiriyewithana     NaN  ",
      "text/html": "<div>\n<style scoped>\n    .dataframe tbody tr th:only-of-type {\n        vertical-align: middle;\n    }\n\n    .dataframe tbody tr th {\n        vertical-align: top;\n    }\n\n    .dataframe thead th {\n        text-align: right;\n    }\n</style>\n<table border=\"1\" class=\"dataframe\">\n  <thead>\n    <tr style=\"text-align: right;\">\n      <th></th>\n      <th>A_id</th>\n      <th>Size</th>\n      <th>Weight</th>\n      <th>Sweetness</th>\n      <th>Crunchiness</th>\n      <th>Juiciness</th>\n      <th>Ripeness</th>\n      <th>Acidity</th>\n      <th>Quality</th>\n    </tr>\n  </thead>\n  <tbody>\n    <tr>\n      <th>3996</th>\n      <td>3996.0</td>\n      <td>-0.293118</td>\n      <td>1.949253</td>\n      <td>-0.204020</td>\n      <td>-0.640196</td>\n      <td>0.024523</td>\n      <td>-1.087900</td>\n      <td>1.854235285</td>\n      <td>good</td>\n    </tr>\n    <tr>\n      <th>3997</th>\n      <td>3997.0</td>\n      <td>-2.634515</td>\n      <td>-2.138247</td>\n      <td>-2.440461</td>\n      <td>0.657223</td>\n      <td>2.199709</td>\n      <td>4.763859</td>\n      <td>-1.334611391</td>\n      <td>bad</td>\n    </tr>\n    <tr>\n      <th>3998</th>\n      <td>3998.0</td>\n      <td>-4.008004</td>\n      <td>-1.779337</td>\n      <td>2.366397</td>\n      <td>-0.200329</td>\n      <td>2.161435</td>\n      <td>0.214488</td>\n      <td>-2.229719806</td>\n      <td>good</td>\n    </tr>\n    <tr>\n      <th>3999</th>\n      <td>3999.0</td>\n      <td>0.278540</td>\n      <td>-1.715505</td>\n      <td>0.121217</td>\n      <td>-1.154075</td>\n      <td>1.266677</td>\n      <td>-0.776571</td>\n      <td>1.599796456</td>\n      <td>good</td>\n    </tr>\n    <tr>\n      <th>4000</th>\n      <td>NaN</td>\n      <td>NaN</td>\n      <td>NaN</td>\n      <td>NaN</td>\n      <td>NaN</td>\n      <td>NaN</td>\n      <td>NaN</td>\n      <td>Created_by_Nidula_Elgiriyewithana</td>\n      <td>NaN</td>\n    </tr>\n  </tbody>\n</table>\n</div>"
     },
     "execution_count": 33,
     "metadata": {},
     "output_type": "execute_result"
    }
   ],
   "source": [
    "df.tail()"
   ],
   "metadata": {
    "collapsed": false,
    "ExecuteTime": {
     "end_time": "2024-01-16T21:46:07.402143564Z",
     "start_time": "2024-01-16T21:46:07.208751322Z"
    }
   },
   "id": "a9dda182f538a753",
   "execution_count": 33
  },
  {
   "cell_type": "markdown",
   "source": [
    "we noticed that last row is for author, so we will drop it"
   ],
   "metadata": {
    "collapsed": false
   },
   "id": "48c7841ba5218d58"
  },
  {
   "cell_type": "code",
   "outputs": [
    {
     "name": "stdout",
     "output_type": "stream",
     "text": [
      "<class 'pandas.core.frame.DataFrame'>\n",
      "RangeIndex: 4000 entries, 0 to 3999\n",
      "Data columns (total 9 columns):\n",
      " #   Column       Non-Null Count  Dtype  \n",
      "---  ------       --------------  -----  \n",
      " 0   A_id         4000 non-null   float64\n",
      " 1   Size         4000 non-null   float64\n",
      " 2   Weight       4000 non-null   float64\n",
      " 3   Sweetness    4000 non-null   float64\n",
      " 4   Crunchiness  4000 non-null   float64\n",
      " 5   Juiciness    4000 non-null   float64\n",
      " 6   Ripeness     4000 non-null   float64\n",
      " 7   Acidity      4000 non-null   object \n",
      " 8   Quality      4000 non-null   object \n",
      "dtypes: float64(7), object(2)\n",
      "memory usage: 281.4+ KB\n"
     ]
    }
   ],
   "source": [
    "df = df[:-1]\n",
    "df.info()"
   ],
   "metadata": {
    "collapsed": false,
    "ExecuteTime": {
     "end_time": "2024-01-16T21:46:07.667478926Z",
     "start_time": "2024-01-16T21:46:07.351502963Z"
    }
   },
   "id": "3f97f3eb47d68629",
   "execution_count": 34
  },
  {
   "cell_type": "markdown",
   "source": [],
   "metadata": {
    "collapsed": false
   },
   "id": "1874e31345ef3f4a"
  },
  {
   "cell_type": "markdown",
   "source": [
    "last row has been removed"
   ],
   "metadata": {
    "collapsed": false
   },
   "id": "993dda3daf3e88d6"
  },
  {
   "cell_type": "code",
   "outputs": [
    {
     "data": {
      "text/plain": "   A_id      Size    Weight  Sweetness  Crunchiness  Juiciness  Ripeness  \\\n0   0.0 -3.970049 -2.512336   5.346330    -1.012009   1.844900  0.329840   \n1   1.0 -1.195217 -2.839257   3.664059     1.588232   0.853286  0.867530   \n2   2.0 -0.292024 -1.351282  -1.738429    -0.342616   2.838636 -0.038033   \n3   3.0 -0.657196 -2.271627   1.324874    -0.097875   3.637970 -3.413761   \n4   4.0  1.364217 -1.296612  -0.384658    -0.553006   3.030874 -1.303849   \n\n        Acidity Quality  \n0  -0.491590483    good  \n1  -0.722809367    good  \n2   2.621636473     bad  \n3   0.790723217    good  \n4   0.501984036    good  ",
      "text/html": "<div>\n<style scoped>\n    .dataframe tbody tr th:only-of-type {\n        vertical-align: middle;\n    }\n\n    .dataframe tbody tr th {\n        vertical-align: top;\n    }\n\n    .dataframe thead th {\n        text-align: right;\n    }\n</style>\n<table border=\"1\" class=\"dataframe\">\n  <thead>\n    <tr style=\"text-align: right;\">\n      <th></th>\n      <th>A_id</th>\n      <th>Size</th>\n      <th>Weight</th>\n      <th>Sweetness</th>\n      <th>Crunchiness</th>\n      <th>Juiciness</th>\n      <th>Ripeness</th>\n      <th>Acidity</th>\n      <th>Quality</th>\n    </tr>\n  </thead>\n  <tbody>\n    <tr>\n      <th>0</th>\n      <td>0.0</td>\n      <td>-3.970049</td>\n      <td>-2.512336</td>\n      <td>5.346330</td>\n      <td>-1.012009</td>\n      <td>1.844900</td>\n      <td>0.329840</td>\n      <td>-0.491590483</td>\n      <td>good</td>\n    </tr>\n    <tr>\n      <th>1</th>\n      <td>1.0</td>\n      <td>-1.195217</td>\n      <td>-2.839257</td>\n      <td>3.664059</td>\n      <td>1.588232</td>\n      <td>0.853286</td>\n      <td>0.867530</td>\n      <td>-0.722809367</td>\n      <td>good</td>\n    </tr>\n    <tr>\n      <th>2</th>\n      <td>2.0</td>\n      <td>-0.292024</td>\n      <td>-1.351282</td>\n      <td>-1.738429</td>\n      <td>-0.342616</td>\n      <td>2.838636</td>\n      <td>-0.038033</td>\n      <td>2.621636473</td>\n      <td>bad</td>\n    </tr>\n    <tr>\n      <th>3</th>\n      <td>3.0</td>\n      <td>-0.657196</td>\n      <td>-2.271627</td>\n      <td>1.324874</td>\n      <td>-0.097875</td>\n      <td>3.637970</td>\n      <td>-3.413761</td>\n      <td>0.790723217</td>\n      <td>good</td>\n    </tr>\n    <tr>\n      <th>4</th>\n      <td>4.0</td>\n      <td>1.364217</td>\n      <td>-1.296612</td>\n      <td>-0.384658</td>\n      <td>-0.553006</td>\n      <td>3.030874</td>\n      <td>-1.303849</td>\n      <td>0.501984036</td>\n      <td>good</td>\n    </tr>\n  </tbody>\n</table>\n</div>"
     },
     "execution_count": 35,
     "metadata": {},
     "output_type": "execute_result"
    }
   ],
   "source": [
    "df.head()"
   ],
   "metadata": {
    "collapsed": false,
    "ExecuteTime": {
     "end_time": "2024-01-16T21:46:07.897951780Z",
     "start_time": "2024-01-16T21:46:07.609871523Z"
    }
   },
   "id": "ee7b6b1d3e263ca9",
   "execution_count": 35
  },
  {
   "cell_type": "markdown",
   "source": [
    "# Converting Quality column to binary values for better processing"
   ],
   "metadata": {
    "collapsed": false
   },
   "id": "3ea04621d6e746c"
  },
  {
   "cell_type": "code",
   "outputs": [],
   "source": [
    "df['Quality'] = (df['Quality'] == 'good').astype(int) # good = 1, bad = 0"
   ],
   "metadata": {
    "collapsed": false,
    "ExecuteTime": {
     "end_time": "2024-01-16T21:46:08.133083990Z",
     "start_time": "2024-01-16T21:46:07.733756713Z"
    }
   },
   "id": "1a58026c0faaca3",
   "execution_count": 36
  },
  {
   "cell_type": "code",
   "outputs": [
    {
     "data": {
      "text/plain": "Quality\n1    2004\n0    1996\nName: count, dtype: int64"
     },
     "execution_count": 37,
     "metadata": {},
     "output_type": "execute_result"
    }
   ],
   "source": [
    "df['Quality'].value_counts()"
   ],
   "metadata": {
    "collapsed": false,
    "ExecuteTime": {
     "end_time": "2024-01-16T21:46:08.285498550Z",
     "start_time": "2024-01-16T21:46:08.076101502Z"
    }
   },
   "id": "444c4091efaa959a",
   "execution_count": 37
  },
  {
   "cell_type": "code",
   "outputs": [
    {
     "data": {
      "text/plain": "<Figure size 640x480 with 1 Axes>",
      "image/png": "[encoded data removed]"
     },
     "metadata": {},
     "output_type": "display_data"
    }
   ],
   "source": [
    "sns.histplot(df['Weight'],kde=True) # kde = kernel density estimation\n",
    "plt.tight_layout()\n",
    "plt.show()"
   ],
   "metadata": {
    "collapsed": false,
    "ExecuteTime": {
     "end_time": "2024-01-16T22:43:07.130112518Z",
     "start_time": "2024-01-16T22:43:05.870012447Z"
    }
   },
   "id": "db9dd347a62e39b9",
   "execution_count": 52
  },
  {
   "cell_type": "code",
   "outputs": [],
   "source": [],
   "metadata": {
    "collapsed": false,
    "ExecuteTime": {
     "end_time": "2024-01-16T21:46:08.584670763Z",
     "start_time": "2024-01-16T21:46:08.374775677Z"
    }
   },
   "id": "9faada23744be038",
   "execution_count": 37
  },
  {
   "cell_type": "code",
   "outputs": [],
   "source": [],
   "metadata": {
    "collapsed": false,
    "ExecuteTime": {
     "end_time": "2024-01-16T21:46:08.753695067Z",
     "start_time": "2024-01-16T21:46:08.589103177Z"
    }
   },
   "id": "575f9a17728e05c6",
   "execution_count": 37
  },
  {
   "cell_type": "code",
   "outputs": [],
   "source": [],
   "metadata": {
    "collapsed": false,
    "ExecuteTime": {
     "end_time": "2024-01-16T21:46:08.788239081Z",
     "start_time": "2024-01-16T21:46:08.701510153Z"
    }
   },
   "id": "4a95c5def03ba543",
   "execution_count": 37
  }
 ],
 "metadata": {
  "kernelspec": {
   "display_name": "Python 3",
   "language": "python",
   "name": "python3"
  },
  "language_info": {
   "codemirror_mode": {
    "name": "ipython",
    "version": 2
   },
   "file_extension": ".py",
   "mimetype": "text/x-python",
   "name": "python",
   "nbconvert_exporter": "python",
   "pygments_lexer": "ipython2",
   "version": "2.7.6"
  }
 },
 "nbformat": 4,
 "nbformat_minor": 5
}
